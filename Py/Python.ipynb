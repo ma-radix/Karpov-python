{
 "cells": [
  {
   "cell_type": "code",
   "execution_count": 19,
   "metadata": {},
   "outputs": [],
   "source": [
    "worker = ['Olya', 'Silyutina', 350000, 3]\n",
    "\n",
    "\n",
    "stat = \"{user_name} {user_family} is {position}\"\n",
    "if worker[3] < 2:\n",
    "    position = \"junior\"\n",
    "elif 2 <= worker[3] <= 5:\n",
    "    position = \"middle\"\n",
    "elif worker[3] > 5:\n",
    "    position = \"senior\"\n",
    "status = stat.format(user_name=worker[0], user_family=worker[1], position=position)\n"
   ]
  },
  {
   "cell_type": "code",
   "execution_count": 18,
   "metadata": {},
   "outputs": [
    {
     "name": "stdout",
     "output_type": "stream",
     "text": [
      "Olya Silyutina is middle\n"
     ]
    }
   ],
   "source": [
    "worker = ['Olya', 'Silyutina', 350000, 3]\n",
    "\n",
    "stat = \"{user_name} {user_family} is {position}\"\n",
    "if worker[3] < 2:\n",
    "    position = \"junior\"\n",
    "elif 2 <= worker[3] <= 5:\n",
    "    position = \"middle\"\n",
    "elif worker[3] > 5:\n",
    "    position = \"senior\"\n",
    "status = stat.format(user_name=worker[0], user_family=worker[1], position=position)\n",
    "print(status)\n"
   ]
  },
  {
   "cell_type": "code",
   "execution_count": 20,
   "metadata": {},
   "outputs": [
    {
     "name": "stdout",
     "output_type": "stream",
     "text": [
      "[10, 100, 20, 50, 160, 210]\n"
     ]
    }
   ],
   "source": [
    "values = [12, 134, 10, 47, 100, 20, 50, 160, 210]\n",
    "\n",
    "tens = []\n",
    "for value in values:\n",
    "    if value % 10 == 0:\n",
    "        tens.append(value)\n",
    "        \n",
    "print(tens)"
   ]
  },
  {
   "cell_type": "code",
   "execution_count": 23,
   "metadata": {},
   "outputs": [
    {
     "name": "stdout",
     "output_type": "stream",
     "text": [
      "Ivan Ivanov is middle\n",
      "Petr Petrov is middle\n",
      "Sidor Sidorov is middle\n"
     ]
    }
   ],
   "source": [
    "workers = [['Ivan', 'Ivanov', 100000, 2], ['Petr', 'Petrov', 150000, 2], ['Sidor', 'Sidorov', 200000, 3]]\n",
    "\n",
    "\n",
    "string = \"{user_name} {user_family} is {position}\"\n",
    "for worker in workers:\n",
    "    user_name = worker[0]\n",
    "    user_family = worker[1]\n",
    "    if worker[3] < 2:\n",
    "        position = \"junior\"\n",
    "    elif 2 <= worker[3] <= 5:\n",
    "        position = \"middle\"\n",
    "    elif worker[3] > 5:\n",
    "        position = \"senior\"\n",
    "    print(string.format(user_name=user_name, user_family=user_family, position=position))\n"
   ]
  },
  {
   "cell_type": "code",
   "execution_count": null,
   "metadata": {},
   "outputs": [],
   "source": []
  },
  {
   "cell_type": "code",
   "execution_count": 32,
   "metadata": {},
   "outputs": [
    {
     "name": "stdout",
     "output_type": "stream",
     "text": [
      "{'mvolkova': {'name': 'Masha', 'surname': 'Volkova', 'age': 25, 'salary': 60000, 'position': 'junior'}, 'pvoronov': {'name': 'Peter', 'surname': 'Voronov', 'age': 27, 'salary': 100000, 'position': 'junior'}, 'pparker': {'name': 'Peter', 'surname': 'Parker', 'age': 35, 'salary': 150000, 'position': 'middle'}, 'akarpov': {'name': 'Anatoly', 'surname': 'Karpov', 'age': 30, 'salary': 250000, 'position': 'senior'}}\n",
      "{'name': 'Masha', 'surname': 'Volkova', 'age': 25, 'salary': 60000, 'position': 'junior'}\n"
     ]
    }
   ],
   "source": [
    "mvolkova = {}\n",
    "mvolkova[\"name\"] = \"Masha\"\n",
    "mvolkova[\"surname\"] = \"Volkova\"\n",
    "mvolkova[\"age\"] = 25\n",
    "mvolkova[\"salary\"] = 60000\n",
    "mvolkova[\"position\"] = \"junior\"\n",
    "\n",
    "\n",
    "pvoronov = {}\n",
    "pvoronov[\"name\"] = \"Peter\"\n",
    "pvoronov[\"surname\"] = \"Voronov\"\n",
    "pvoronov[\"age\"] = 27\n",
    "pvoronov[\"salary\"] = 100000\n",
    "pvoronov[\"position\"] = \"junior\"\n",
    "\n",
    "pparker = {}\n",
    "pparker[\"name\"] = \"Peter\"\n",
    "pparker[\"surname\"] = \"Parker\"\n",
    "pparker[\"age\"] = 35\n",
    "pparker[\"salary\"] = 150000\n",
    "pparker[\"position\"] = \"middle\"\n",
    "\n",
    "akarpov = {}\n",
    "akarpov[\"name\"] = \"Anatoly\"\n",
    "akarpov[\"surname\"] = \"Karpov\"\n",
    "akarpov[\"age\"] = 30\n",
    "akarpov[\"salary\"] = 250000\n",
    "akarpov[\"position\"] = \"senior\"\n",
    "\n",
    "\n",
    "\n",
    "users_dict = {}\n",
    "users_dict[\"mvolkova\"] = mvolkova\n",
    "users_dict[\"pvoronov\"] = pvoronov\n",
    "users_dict[\"pparker\"] = pparker\n",
    "users_dict[\"akarpov\"] = akarpov\n",
    "\n",
    "print(users_dict)\n",
    "print(mvolkova)\n"
   ]
  },
  {
   "cell_type": "code",
   "execution_count": null,
   "metadata": {},
   "outputs": [],
   "source": []
  },
  {
   "cell_type": "code",
   "execution_count": null,
   "metadata": {},
   "outputs": [],
   "source": []
  },
  {
   "cell_type": "code",
   "execution_count": null,
   "metadata": {},
   "outputs": [],
   "source": []
  }
 ],
 "metadata": {
  "kernelspec": {
   "display_name": "Python 3",
   "language": "python",
   "name": "python3"
  },
  "language_info": {
   "codemirror_mode": {
    "name": "ipython",
    "version": 3
   },
   "file_extension": ".py",
   "mimetype": "text/x-python",
   "name": "python",
   "nbconvert_exporter": "python",
   "pygments_lexer": "ipython3",
   "version": "3.7.3"
  }
 },
 "nbformat": 4,
 "nbformat_minor": 4
}
